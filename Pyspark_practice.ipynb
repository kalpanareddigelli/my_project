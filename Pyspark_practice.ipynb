{
  "nbformat": 4,
  "nbformat_minor": 0,
  "metadata": {
    "colab": {
      "provenance": [],
      "include_colab_link": true
    },
    "kernelspec": {
      "name": "python3",
      "display_name": "Python 3"
    },
    "language_info": {
      "name": "python"
    }
  },
  "cells": [
    {
      "cell_type": "markdown",
      "metadata": {
        "id": "view-in-github",
        "colab_type": "text"
      },
      "source": [
        "<a href=\"https://colab.research.google.com/github/kalpanareddigelli/my_project/blob/main/Pyspark_practice.ipynb\" target=\"_parent\"><img src=\"https://colab.research.google.com/assets/colab-badge.svg\" alt=\"Open In Colab\"/></a>"
      ]
    },
    {
      "cell_type": "code",
      "execution_count": 2,
      "metadata": {
        "colab": {
          "base_uri": "https://localhost:8080/"
        },
        "id": "KwxI17QJAYw_",
        "outputId": "db7efef2-4d55-4dff-f36e-09cc6c27e1be"
      },
      "outputs": [
        {
          "output_type": "stream",
          "name": "stdout",
          "text": [
            "Looking in indexes: https://pypi.org/simple, https://us-python.pkg.dev/colab-wheels/public/simple/\n",
            "Collecting pyspark\n",
            "  Downloading pyspark-3.4.0.tar.gz (310.8 MB)\n",
            "\u001b[2K     \u001b[90m━━━━━━━━━━━━━━━━━━━━━━━━━━━━━━━━━━━━━━━\u001b[0m \u001b[32m310.8/310.8 MB\u001b[0m \u001b[31m2.9 MB/s\u001b[0m eta \u001b[36m0:00:00\u001b[0m\n",
            "\u001b[?25h  Preparing metadata (setup.py) ... \u001b[?25l\u001b[?25hdone\n",
            "Requirement already satisfied: py4j==0.10.9.7 in /usr/local/lib/python3.10/dist-packages (from pyspark) (0.10.9.7)\n",
            "Building wheels for collected packages: pyspark\n",
            "  Building wheel for pyspark (setup.py) ... \u001b[?25l\u001b[?25hdone\n",
            "  Created wheel for pyspark: filename=pyspark-3.4.0-py2.py3-none-any.whl size=311317130 sha256=e1ec1ccb67ac054b96302625daa913d02af83f07879e880f26a388432d70668e\n",
            "  Stored in directory: /root/.cache/pip/wheels/7b/1b/4b/3363a1d04368e7ff0d408e57ff57966fcdf00583774e761327\n",
            "Successfully built pyspark\n",
            "Installing collected packages: pyspark\n",
            "Successfully installed pyspark-3.4.0\n"
          ]
        }
      ],
      "source": [
        "#Pyspark : It is a framework that runs on the top of Apache Spark and it is used to process Big Data.\n",
        "#Batch Processing : Data would be coming Hourly, Daily, Weekly, Monthly, Yearly\n",
        "#Advantages : You don't missout on any data, why because there is a time difference between one and other set of data.\n",
        "#Streaming : In this data is coming probably every second or every minute. \n",
        "#If a second's data is lost : 30 entries , sets of data.\n",
        "\n",
        "#Installation of Pyspark -\n",
        "!pip install pyspark"
      ]
    },
    {
      "cell_type": "markdown",
      "source": [
        "# New Section"
      ],
      "metadata": {
        "id": "c1IczPAm8oaI"
      }
    },
    {
      "cell_type": "markdown",
      "source": [
        "# New Section"
      ],
      "metadata": {
        "id": "RNyM1WL88o_W"
      }
    },
    {
      "cell_type": "code",
      "source": [
        "import pyspark\n",
        "from pyspark.sql import SparkSession\n",
        "from pyspark.sql import functions as F"
      ],
      "metadata": {
        "id": "VeDusvZVCrX5"
      },
      "execution_count": 3,
      "outputs": []
    },
    {
      "cell_type": "code",
      "source": [
        "#If you want to build a code or process any dataset in pyspark, you would require a session for that\n",
        "#which is called as SparkSession"
      ],
      "metadata": {
        "id": "lIRHHgcSCu49"
      },
      "execution_count": 4,
      "outputs": []
    },
    {
      "cell_type": "code",
      "source": [
        "#Step 1 : Create a SparkSession\n",
        "spark = SparkSession.builder.appName(\"PysparkL1\").getOrCreate()"
      ],
      "metadata": {
        "id": "_L2DAf3KDKvR"
      },
      "execution_count": 5,
      "outputs": []
    },
    {
      "cell_type": "code",
      "source": [
        "#Dataset => DataFrames \n",
        "df = spark.createDataFrame(\n",
        "    [\n",
        "        (\"Spark\", 25000, 50),\n",
        "        (\"Scala\", 50000, 100),\n",
        "        (\"PHP\", 75000, 120)\n",
        "    ],\n",
        "    [\"Language Name\",\"Price\",\"Days\"]\n",
        ")\n",
        "\n",
        "\n",
        "df1 = spark.createDataFrame(\n",
        "    [\n",
        "        (\"kalpana\", \"USA\", 3.2, \"ASU\", 100000),\n",
        "        (\"deepak\", \"USA\", 3.8, \"ASU\", 200000),\n",
        "        (\"isha\", \"india\", 20.0, \"school\", 1000 ),\n",
        "        (\"diya\", \"india\", 3.0, \"school\", 10000),\n",
        "        (\"jack\", \"china\", 9.1, \"clg\", 2900),\n",
        "        (\"jame\", \"nepal\", 9.4, \"clg\", 20000)\n",
        "   ],\n",
        "   [\"name\", \"country\", \"GPA\", \"edu\", \"salary\"]\n",
        "\n",
        ")\n",
        "\n"
      ],
      "metadata": {
        "id": "4fR55d6SD-zy"
      },
      "execution_count": 6,
      "outputs": []
    },
    {
      "cell_type": "code",
      "source": [
        "df1.show(truncate= False)"
      ],
      "metadata": {
        "colab": {
          "base_uri": "https://localhost:8080/"
        },
        "id": "w3suOQ1Qr-cH",
        "outputId": "37c0e884-387d-43ed-aea8-80fc116113f7"
      },
      "execution_count": 7,
      "outputs": [
        {
          "output_type": "stream",
          "name": "stdout",
          "text": [
            "+-------+-------+----+------+------+\n",
            "|name   |country|GPA |edu   |salary|\n",
            "+-------+-------+----+------+------+\n",
            "|kalpana|USA    |3.2 |ASU   |100000|\n",
            "|deepak |USA    |3.8 |ASU   |200000|\n",
            "|isha   |india  |20.0|school|1000  |\n",
            "|diya   |india  |3.0 |school|10000 |\n",
            "|jack   |china  |9.1 |clg   |2900  |\n",
            "|jame   |nepal  |9.4 |clg   |20000 |\n",
            "+-------+-------+----+------+------+\n",
            "\n"
          ]
        }
      ]
    },
    {
      "cell_type": "code",
      "source": [
        "#Show : This is a function for dataframe which is used to display the contents of the dataframe.\n",
        "\n",
        "#Truncate = False : You are forcing pyspark to display the whole dataframe without any cuts or breaks. # df.show(truncate=False)\n",
        "#Int argument : It allows you to display only that number of rows in your output. # df.show(1)\n",
        "#Show has a return type of None\n",
        "df.show(truncate=False)"
      ],
      "metadata": {
        "colab": {
          "base_uri": "https://localhost:8080/"
        },
        "id": "WOtXIa1jGIP-",
        "outputId": "0c3224de-dbd6-4420-be02-84555f998008"
      },
      "execution_count": 8,
      "outputs": [
        {
          "output_type": "stream",
          "name": "stdout",
          "text": [
            "+-------------+-----+----+\n",
            "|Language Name|Price|Days|\n",
            "+-------------+-----+----+\n",
            "|Spark        |25000|50  |\n",
            "|Scala        |50000|100 |\n",
            "|PHP          |75000|120 |\n",
            "+-------------+-----+----+\n",
            "\n"
          ]
        }
      ]
    },
    {
      "cell_type": "code",
      "source": [
        "df1.show(truncate= False)\n",
        "\n",
        "df1.printSchema()"
      ],
      "metadata": {
        "colab": {
          "base_uri": "https://localhost:8080/"
        },
        "id": "mhauKQ42tbSu",
        "outputId": "9aec49a7-4db4-4772-a670-c5253e988b32"
      },
      "execution_count": 9,
      "outputs": [
        {
          "output_type": "stream",
          "name": "stdout",
          "text": [
            "+-------+-------+----+------+------+\n",
            "|name   |country|GPA |edu   |salary|\n",
            "+-------+-------+----+------+------+\n",
            "|kalpana|USA    |3.2 |ASU   |100000|\n",
            "|deepak |USA    |3.8 |ASU   |200000|\n",
            "|isha   |india  |20.0|school|1000  |\n",
            "|diya   |india  |3.0 |school|10000 |\n",
            "|jack   |china  |9.1 |clg   |2900  |\n",
            "|jame   |nepal  |9.4 |clg   |20000 |\n",
            "+-------+-------+----+------+------+\n",
            "\n",
            "root\n",
            " |-- name: string (nullable = true)\n",
            " |-- country: string (nullable = true)\n",
            " |-- GPA: double (nullable = true)\n",
            " |-- edu: string (nullable = true)\n",
            " |-- salary: long (nullable = true)\n",
            "\n"
          ]
        }
      ]
    },
    {
      "cell_type": "code",
      "source": [
        "selectdf1 = df1.select(\"name\", \"GPA\", \"salary\")\n",
        "selectdf1.printSchema()\n",
        "\n",
        "selectdf1 = df1.select(\"name\", \"GPA\").show()\n",
        "\n",
        "\n",
        "\n",
        "\n"
      ],
      "metadata": {
        "colab": {
          "base_uri": "https://localhost:8080/"
        },
        "id": "aCYnTSk3tdSO",
        "outputId": "aefb4be8-cce1-4520-a1d6-eb2554d6b139"
      },
      "execution_count": 10,
      "outputs": [
        {
          "output_type": "stream",
          "name": "stdout",
          "text": [
            "root\n",
            " |-- name: string (nullable = true)\n",
            " |-- GPA: double (nullable = true)\n",
            " |-- salary: long (nullable = true)\n",
            "\n",
            "+-------+----+\n",
            "|   name| GPA|\n",
            "+-------+----+\n",
            "|kalpana| 3.2|\n",
            "| deepak| 3.8|\n",
            "|   isha|20.0|\n",
            "|   diya| 3.0|\n",
            "|   jack| 9.1|\n",
            "|   jame| 9.4|\n",
            "+-------+----+\n",
            "\n"
          ]
        }
      ]
    },
    {
      "cell_type": "code",
      "source": [
        "#Select : Selecting the present column inside of the dataframe for processing\n",
        "#Return type of Dataframe\n",
        "smallDf = df.select(\"Language Name\",\"Days\").show()\n",
        "print(smallDf)"
      ],
      "metadata": {
        "colab": {
          "base_uri": "https://localhost:8080/"
        },
        "id": "lKZhIsptGT6D",
        "outputId": "332a7397-4ae7-4d21-cad8-39b95bb2f510"
      },
      "execution_count": 11,
      "outputs": [
        {
          "output_type": "stream",
          "name": "stdout",
          "text": [
            "+-------------+----+\n",
            "|Language Name|Days|\n",
            "+-------------+----+\n",
            "|        Spark|  50|\n",
            "|        Scala| 100|\n",
            "|          PHP| 120|\n",
            "+-------------+----+\n",
            "\n",
            "None\n"
          ]
        }
      ]
    },
    {
      "cell_type": "code",
      "source": [
        "#StructField and StructType : Defining the schema of a particular dataframe : here structype gives the basic \n",
        "#structure of the dataframe and structfield would define the fields inside of that structure\n",
        "import pyspark\n",
        "from pyspark.sql import SparkSession \n",
        "from pyspark.sql.types import StructField, StructType, StringType, IntegerType\n",
        "\n"
      ],
      "metadata": {
        "id": "XB0OLPYPvf8m"
      },
      "execution_count": 12,
      "outputs": []
    },
    {
      "cell_type": "code",
      "source": [
        "spark = SparkSession.builder.master([\"local[1]\"]).appName(\"pysaprkl1\").getOrCreate()\n",
        "\n",
        "d = [\n",
        "    (\"James\",\"\",\"Smith\",\"M\",30000),\n",
        "    (\"Micheal\",\"\",\"Rose\",\"F\",20000),\n",
        "    (\"Maria\", \"\", \"Anne\", \"F\",30000),\n",
        "    (\"rosy\", \"\", \"gelli\", \"F\", 40000),\n",
        "    (\"jack\", \"\",\"marey\", \"M\", None)\n",
        "]\n",
        "schema = StructType([\n",
        "    StructField(\"firstname\",StringType(),True),\n",
        "    StructField(\"middlename\",StringType(),True),\n",
        "    StructField(\"lastname\",StringType(),True),\n",
        "    StructField(\"gender\",StringType(),True),\n",
        "    StructField(\"salary\",IntegerType(),True)    #here true - means nullable  - can be null or not null, #false - nullable - cant be null       \n",
        "                     \n",
        "                     \n",
        "                     \n",
        "])\n",
        "\n",
        "df2 = spark.createDataFrame(data = d, schema = schema)\n",
        "df2.show()"
      ],
      "metadata": {
        "colab": {
          "base_uri": "https://localhost:8080/"
        },
        "id": "8ozPGIhWwSTx",
        "outputId": "bdb9d37f-25a9-448c-9c5d-686418f704aa"
      },
      "execution_count": 13,
      "outputs": [
        {
          "output_type": "stream",
          "name": "stdout",
          "text": [
            "+---------+----------+--------+------+------+\n",
            "|firstname|middlename|lastname|gender|salary|\n",
            "+---------+----------+--------+------+------+\n",
            "|    James|          |   Smith|     M| 30000|\n",
            "|  Micheal|          |    Rose|     F| 20000|\n",
            "|    Maria|          |    Anne|     F| 30000|\n",
            "|     rosy|          |   gelli|     F| 40000|\n",
            "|     jack|          |   marey|     M|  null|\n",
            "+---------+----------+--------+------+------+\n",
            "\n"
          ]
        }
      ]
    },
    {
      "cell_type": "code",
      "source": [
        "df2.printSchema()"
      ],
      "metadata": {
        "colab": {
          "base_uri": "https://localhost:8080/"
        },
        "id": "x9IKUaW516jk",
        "outputId": "a971ffc3-e678-405b-d643-f07710572cb3"
      },
      "execution_count": 14,
      "outputs": [
        {
          "output_type": "stream",
          "name": "stdout",
          "text": [
            "root\n",
            " |-- firstname: string (nullable = true)\n",
            " |-- middlename: string (nullable = true)\n",
            " |-- lastname: string (nullable = true)\n",
            " |-- gender: string (nullable = true)\n",
            " |-- salary: integer (nullable = true)\n",
            "\n"
          ]
        }
      ]
    },
    {
      "cell_type": "code",
      "source": [
        "#StructField and StructType : Defining the schema of a particular dataframe : here structype gives the basic \n",
        "#structure of the dataframe and structfield would define the fields inside of that structure\n",
        "import pyspark\n",
        "from pyspark.sql import SparkSession \n",
        "from pyspark.sql.types import StructField, StructType, StringType, IntegerType\n",
        "\n",
        "spark = SparkSession.builder.master([\"local[1]\"]).appName(\"PysparkL1\").getOrCreate()\n",
        "\n",
        "data = [\n",
        "    (\"James\",\"\",\"Smith\",\"M\",30000),\n",
        "    (\"Micheal\",\"\",\"Rose\",\"F\",20000),\n",
        "    (\"Maria\",\"\",\"Anne\",\"F\",30000)\n",
        "]\n",
        "\n",
        "schema = StructType([\n",
        "    StructField(\"firstname\",StringType(),True),\n",
        "    StructField(\"middlename\",StringType(),True),\n",
        "    StructField(\"lastname\",StringType(),True),\n",
        "    StructField(\"gender\",StringType(),True),\n",
        "    StructField(\"salary\",IntegerType(),True)\n",
        "])\n",
        "\n",
        "df = spark.createDataFrame(data = data, schema = schema)\n",
        "df.show()"
      ],
      "metadata": {
        "colab": {
          "base_uri": "https://localhost:8080/"
        },
        "id": "dgRqU-WxTSS1",
        "outputId": "87205957-537a-46ea-eeb0-529f51e4d2dc"
      },
      "execution_count": 15,
      "outputs": [
        {
          "output_type": "stream",
          "name": "stdout",
          "text": [
            "+---------+----------+--------+------+------+\n",
            "|firstname|middlename|lastname|gender|salary|\n",
            "+---------+----------+--------+------+------+\n",
            "|    James|          |   Smith|     M| 30000|\n",
            "|  Micheal|          |    Rose|     F| 20000|\n",
            "|    Maria|          |    Anne|     F| 30000|\n",
            "+---------+----------+--------+------+------+\n",
            "\n"
          ]
        }
      ]
    },
    {
      "cell_type": "code",
      "source": [],
      "metadata": {
        "id": "Jkk2rfJ6wHPQ"
      },
      "execution_count": 15,
      "outputs": []
    },
    {
      "cell_type": "code",
      "source": [
        "df.printSchema()"
      ],
      "metadata": {
        "colab": {
          "base_uri": "https://localhost:8080/"
        },
        "id": "q6m7ZT8YWoWO",
        "outputId": "2319cf91-de30-41df-d675-da0c36e4aec3"
      },
      "execution_count": 16,
      "outputs": [
        {
          "output_type": "stream",
          "name": "stdout",
          "text": [
            "root\n",
            " |-- firstname: string (nullable = true)\n",
            " |-- middlename: string (nullable = true)\n",
            " |-- lastname: string (nullable = true)\n",
            " |-- gender: string (nullable = true)\n",
            " |-- salary: integer (nullable = true)\n",
            "\n"
          ]
        }
      ]
    },
    {
      "cell_type": "code",
      "source": [
        "#Nested : Structure of Data inside a Different Structure\n",
        "nestedStructure = StructType([\n",
        "    StructField(\"name\",StructType([\n",
        "        StructField(\"firstname\",StringType(),True),\n",
        "        StructField(\"lastname\",StringType(),True)\n",
        "    ])),\n",
        "    StructField(\"id\",StringType(),True),\n",
        "    StructField(\"gender\",StringType(),True),\n",
        "    StructField(\"salary\",IntegerType(),True)\n",
        "])\n",
        "\n",
        "\n",
        "nestedData = [\n",
        "    ((\"A\",\"Pyspark\"),\"1\",\"M\",180000),\n",
        "    ((\"B\",\"Pyspark\"),\"2\",\"M\",120000),\n",
        "    ((\"c\",\"Pyspark\"),\"3\",\"M\",130000),\n",
        "    ((\"D\",\"Pyspark\"),\"4\",\"M\",150000),\n",
        "    ((\"E\",\"Pyspark\"),\"5\",\"M\",170000)\n",
        "]\n",
        "\n",
        "df = spark.createDataFrame(data = nestedData, schema = nestedStructure)"
      ],
      "metadata": {
        "id": "E03BeMVKXA8z"
      },
      "execution_count": 17,
      "outputs": []
    },
    {
      "cell_type": "code",
      "source": [
        "df.printSchema()"
      ],
      "metadata": {
        "colab": {
          "base_uri": "https://localhost:8080/"
        },
        "id": "u7Pqbi7-ZXCC",
        "outputId": "39ff194e-ddf6-4416-879b-d3f9a0dada5e"
      },
      "execution_count": 18,
      "outputs": [
        {
          "output_type": "stream",
          "name": "stdout",
          "text": [
            "root\n",
            " |-- name: struct (nullable = true)\n",
            " |    |-- firstname: string (nullable = true)\n",
            " |    |-- lastname: string (nullable = true)\n",
            " |-- id: string (nullable = true)\n",
            " |-- gender: string (nullable = true)\n",
            " |-- salary: integer (nullable = true)\n",
            "\n"
          ]
        }
      ]
    },
    {
      "cell_type": "code",
      "source": [
        "df.show()"
      ],
      "metadata": {
        "colab": {
          "base_uri": "https://localhost:8080/"
        },
        "id": "1LWoCAwWZmrC",
        "outputId": "89883a80-55e4-4a91-bf23-c6e1ab845e5e"
      },
      "execution_count": 19,
      "outputs": [
        {
          "output_type": "stream",
          "name": "stdout",
          "text": [
            "+------------+---+------+------+\n",
            "|        name| id|gender|salary|\n",
            "+------------+---+------+------+\n",
            "|{A, Pyspark}|  1|     M|180000|\n",
            "|{B, Pyspark}|  2|     M|120000|\n",
            "|{c, Pyspark}|  3|     M|130000|\n",
            "|{D, Pyspark}|  4|     M|150000|\n",
            "|{E, Pyspark}|  5|     M|170000|\n",
            "+------------+---+------+------+\n",
            "\n"
          ]
        }
      ]
    },
    {
      "cell_type": "code",
      "source": [
        "from posix import truncate\n",
        "from os import name\n",
        "#Collect : Get the data from the dataframe\n",
        "dataCollect = df1.collect()\n",
        "print(dataCollect)\n",
        "\n",
        "\n",
        "for row in dataCollect:\n",
        "  print(row)    # how to get individual row?\n"
      ],
      "metadata": {
        "colab": {
          "base_uri": "https://localhost:8080/"
        },
        "id": "ZxgmqJ1ZZyBy",
        "outputId": "bed12f39-ca8a-4c3f-903f-be251a61cc39"
      },
      "execution_count": 20,
      "outputs": [
        {
          "output_type": "stream",
          "name": "stdout",
          "text": [
            "[Row(name='kalpana', country='USA', GPA=3.2, edu='ASU', salary=100000), Row(name='deepak', country='USA', GPA=3.8, edu='ASU', salary=200000), Row(name='isha', country='india', GPA=20.0, edu='school', salary=1000), Row(name='diya', country='india', GPA=3.0, edu='school', salary=10000), Row(name='jack', country='china', GPA=9.1, edu='clg', salary=2900), Row(name='jame', country='nepal', GPA=9.4, edu='clg', salary=20000)]\n",
            "Row(name='kalpana', country='USA', GPA=3.2, edu='ASU', salary=100000)\n",
            "Row(name='deepak', country='USA', GPA=3.8, edu='ASU', salary=200000)\n",
            "Row(name='isha', country='india', GPA=20.0, edu='school', salary=1000)\n",
            "Row(name='diya', country='india', GPA=3.0, edu='school', salary=10000)\n",
            "Row(name='jack', country='china', GPA=9.1, edu='clg', salary=2900)\n",
            "Row(name='jame', country='nepal', GPA=9.4, edu='clg', salary=20000)\n"
          ]
        }
      ]
    },
    {
      "cell_type": "code",
      "source": [
        "[\n",
        " \n",
        " Row(name=Row(firstname='A', lastname='Pyspark'), id='1', gender='M', salary=180000), \n",
        " Row(name=Row(firstname='B', lastname='Pyspark'), id='2', gender='M', salary=120000), \n",
        " Row(name=Row(firstname='c', lastname='Pyspark'), id='3', gender='M', salary=130000), \n",
        " Row(name=Row(firstname='D', lastname='Pyspark'), id='4', gender='M', salary=150000), \n",
        " Row(name=Row(firstname='E', lastname='Pyspark'), id='5', gender='M', salary=170000)\n",
        "\n",
        "]"
      ],
      "metadata": {
        "id": "qlsHUS-raPQe",
        "colab": {
          "base_uri": "https://localhost:8080/",
          "height": 235
        },
        "outputId": "2e7ddff4-42b0-444b-a84f-57474550aea2"
      },
      "execution_count": 21,
      "outputs": [
        {
          "output_type": "error",
          "ename": "NameError",
          "evalue": "ignored",
          "traceback": [
            "\u001b[0;31m---------------------------------------------------------------------------\u001b[0m",
            "\u001b[0;31mNameError\u001b[0m                                 Traceback (most recent call last)",
            "\u001b[0;32m<ipython-input-21-9654c768eb79>\u001b[0m in \u001b[0;36m<cell line: 3>\u001b[0;34m()\u001b[0m\n\u001b[1;32m      1\u001b[0m [\n\u001b[1;32m      2\u001b[0m \u001b[0;34m\u001b[0m\u001b[0m\n\u001b[0;32m----> 3\u001b[0;31m  \u001b[0mRow\u001b[0m\u001b[0;34m(\u001b[0m\u001b[0mname\u001b[0m\u001b[0;34m=\u001b[0m\u001b[0mRow\u001b[0m\u001b[0;34m(\u001b[0m\u001b[0mfirstname\u001b[0m\u001b[0;34m=\u001b[0m\u001b[0;34m'A'\u001b[0m\u001b[0;34m,\u001b[0m \u001b[0mlastname\u001b[0m\u001b[0;34m=\u001b[0m\u001b[0;34m'Pyspark'\u001b[0m\u001b[0;34m)\u001b[0m\u001b[0;34m,\u001b[0m \u001b[0mid\u001b[0m\u001b[0;34m=\u001b[0m\u001b[0;34m'1'\u001b[0m\u001b[0;34m,\u001b[0m \u001b[0mgender\u001b[0m\u001b[0;34m=\u001b[0m\u001b[0;34m'M'\u001b[0m\u001b[0;34m,\u001b[0m \u001b[0msalary\u001b[0m\u001b[0;34m=\u001b[0m\u001b[0;36m180000\u001b[0m\u001b[0;34m)\u001b[0m\u001b[0;34m,\u001b[0m\u001b[0;34m\u001b[0m\u001b[0;34m\u001b[0m\u001b[0m\n\u001b[0m\u001b[1;32m      4\u001b[0m  \u001b[0mRow\u001b[0m\u001b[0;34m(\u001b[0m\u001b[0mname\u001b[0m\u001b[0;34m=\u001b[0m\u001b[0mRow\u001b[0m\u001b[0;34m(\u001b[0m\u001b[0mfirstname\u001b[0m\u001b[0;34m=\u001b[0m\u001b[0;34m'B'\u001b[0m\u001b[0;34m,\u001b[0m \u001b[0mlastname\u001b[0m\u001b[0;34m=\u001b[0m\u001b[0;34m'Pyspark'\u001b[0m\u001b[0;34m)\u001b[0m\u001b[0;34m,\u001b[0m \u001b[0mid\u001b[0m\u001b[0;34m=\u001b[0m\u001b[0;34m'2'\u001b[0m\u001b[0;34m,\u001b[0m \u001b[0mgender\u001b[0m\u001b[0;34m=\u001b[0m\u001b[0;34m'M'\u001b[0m\u001b[0;34m,\u001b[0m \u001b[0msalary\u001b[0m\u001b[0;34m=\u001b[0m\u001b[0;36m120000\u001b[0m\u001b[0;34m)\u001b[0m\u001b[0;34m,\u001b[0m\u001b[0;34m\u001b[0m\u001b[0;34m\u001b[0m\u001b[0m\n\u001b[1;32m      5\u001b[0m  \u001b[0mRow\u001b[0m\u001b[0;34m(\u001b[0m\u001b[0mname\u001b[0m\u001b[0;34m=\u001b[0m\u001b[0mRow\u001b[0m\u001b[0;34m(\u001b[0m\u001b[0mfirstname\u001b[0m\u001b[0;34m=\u001b[0m\u001b[0;34m'c'\u001b[0m\u001b[0;34m,\u001b[0m \u001b[0mlastname\u001b[0m\u001b[0;34m=\u001b[0m\u001b[0;34m'Pyspark'\u001b[0m\u001b[0;34m)\u001b[0m\u001b[0;34m,\u001b[0m \u001b[0mid\u001b[0m\u001b[0;34m=\u001b[0m\u001b[0;34m'3'\u001b[0m\u001b[0;34m,\u001b[0m \u001b[0mgender\u001b[0m\u001b[0;34m=\u001b[0m\u001b[0;34m'M'\u001b[0m\u001b[0;34m,\u001b[0m \u001b[0msalary\u001b[0m\u001b[0;34m=\u001b[0m\u001b[0;36m130000\u001b[0m\u001b[0;34m)\u001b[0m\u001b[0;34m,\u001b[0m\u001b[0;34m\u001b[0m\u001b[0;34m\u001b[0m\u001b[0m\n",
            "\u001b[0;31mNameError\u001b[0m: name 'Row' is not defined"
          ]
        }
      ]
    },
    {
      "cell_type": "code",
      "source": [
        "for row in dataCollect:\n",
        "  #You can access the data of the particular row using index notation \n",
        "  #and by directly specifying the column name\n",
        "\n",
        "  print(row['salary'])"
      ],
      "metadata": {
        "id": "3tL5VQe3ak7h"
      },
      "execution_count": null,
      "outputs": []
    },
    {
      "cell_type": "code",
      "source": [
        "#withColumn : If you want to do some column level operations in that case you can use withColumn"
      ],
      "metadata": {
        "id": "gSBtU1IrbZ7D"
      },
      "execution_count": null,
      "outputs": []
    },
    {
      "cell_type": "code",
      "source": [
        "#1 : Changing the datatype of a particular column #cast : To change the datatype of a column from let's say Integer to String or from String to Int\n",
        "df1.printSchema()\n",
        "\n",
        "df2 = df1.withColumn(\"Grade\",F.col(\"GPA\").cast(\"String\"))\n",
        "\n",
        "df2.printSchema()\n",
        "\n",
        "df3 = df2.withColumn(\"Grade\",F.col(\"GPA\").cast(\"float\"))\n",
        "\n",
        "df3.printSchema()\n"
      ],
      "metadata": {
        "colab": {
          "base_uri": "https://localhost:8080/"
        },
        "id": "wUdniog_anX-",
        "outputId": "31944829-e355-4f1e-bb38-5b9ca13a019c"
      },
      "execution_count": 22,
      "outputs": [
        {
          "output_type": "stream",
          "name": "stdout",
          "text": [
            "root\n",
            " |-- name: string (nullable = true)\n",
            " |-- country: string (nullable = true)\n",
            " |-- GPA: double (nullable = true)\n",
            " |-- edu: string (nullable = true)\n",
            " |-- salary: long (nullable = true)\n",
            "\n",
            "root\n",
            " |-- name: string (nullable = true)\n",
            " |-- country: string (nullable = true)\n",
            " |-- GPA: double (nullable = true)\n",
            " |-- edu: string (nullable = true)\n",
            " |-- salary: long (nullable = true)\n",
            " |-- Grade: string (nullable = true)\n",
            "\n",
            "root\n",
            " |-- name: string (nullable = true)\n",
            " |-- country: string (nullable = true)\n",
            " |-- GPA: double (nullable = true)\n",
            " |-- edu: string (nullable = true)\n",
            " |-- salary: long (nullable = true)\n",
            " |-- Grade: float (nullable = true)\n",
            "\n"
          ]
        }
      ]
    },
    {
      "cell_type": "code",
      "source": [
        "df3.show()"
      ],
      "metadata": {
        "id": "VV2jhke56F8t"
      },
      "execution_count": null,
      "outputs": []
    },
    {
      "cell_type": "code",
      "source": [
        "#2. Update the value of existing column\n",
        "df3.show()\n",
        "\n",
        "df4 = df3.withColumn(\"salary_double\", F.col(\"salary\") * 20)\n",
        "\n",
        "#df4 = df3.withColumn(\"salary_divided\", F.col(\"salary\") / 20)\n",
        "\n",
        "df4.show()\n",
        "\n",
        "df4.printSchema()\n",
        "\n",
        "##df = df.withColumn(\"salary\",F.col(\"salary\") * 10)\n",
        "\n",
        "#df.show()"
      ],
      "metadata": {
        "colab": {
          "base_uri": "https://localhost:8080/"
        },
        "id": "MpDjdTzxb6gE",
        "outputId": "ebae249c-54b9-4417-cf82-b8cd09b2a230"
      },
      "execution_count": 23,
      "outputs": [
        {
          "output_type": "stream",
          "name": "stdout",
          "text": [
            "+-------+-------+----+------+------+-----+\n",
            "|   name|country| GPA|   edu|salary|Grade|\n",
            "+-------+-------+----+------+------+-----+\n",
            "|kalpana|    USA| 3.2|   ASU|100000|  3.2|\n",
            "| deepak|    USA| 3.8|   ASU|200000|  3.8|\n",
            "|   isha|  india|20.0|school|  1000| 20.0|\n",
            "|   diya|  india| 3.0|school| 10000|  3.0|\n",
            "|   jack|  china| 9.1|   clg|  2900|  9.1|\n",
            "|   jame|  nepal| 9.4|   clg| 20000|  9.4|\n",
            "+-------+-------+----+------+------+-----+\n",
            "\n",
            "+-------+-------+----+------+------+-----+-------------+\n",
            "|   name|country| GPA|   edu|salary|Grade|salary_double|\n",
            "+-------+-------+----+------+------+-----+-------------+\n",
            "|kalpana|    USA| 3.2|   ASU|100000|  3.2|      2000000|\n",
            "| deepak|    USA| 3.8|   ASU|200000|  3.8|      4000000|\n",
            "|   isha|  india|20.0|school|  1000| 20.0|        20000|\n",
            "|   diya|  india| 3.0|school| 10000|  3.0|       200000|\n",
            "|   jack|  china| 9.1|   clg|  2900|  9.1|        58000|\n",
            "|   jame|  nepal| 9.4|   clg| 20000|  9.4|       400000|\n",
            "+-------+-------+----+------+------+-----+-------------+\n",
            "\n",
            "root\n",
            " |-- name: string (nullable = true)\n",
            " |-- country: string (nullable = true)\n",
            " |-- GPA: double (nullable = true)\n",
            " |-- edu: string (nullable = true)\n",
            " |-- salary: long (nullable = true)\n",
            " |-- Grade: float (nullable = true)\n",
            " |-- salary_double: long (nullable = true)\n",
            "\n"
          ]
        }
      ]
    },
    {
      "cell_type": "code",
      "source": [
        "#3. If you want to create a new column from existing values\n",
        "df.show()\n",
        "df.printSchema()\n",
        "\n",
        "df = df.withColumn(\"salary_copied\",F.col(\"salary\") * -1)\n",
        "\n",
        "df.show()\n",
        "df.printSchema()"
      ],
      "metadata": {
        "colab": {
          "base_uri": "https://localhost:8080/"
        },
        "id": "gahC1jQidl_n",
        "outputId": "2de587bf-0f03-4571-a78e-66225e85cca6"
      },
      "execution_count": 24,
      "outputs": [
        {
          "output_type": "stream",
          "name": "stdout",
          "text": [
            "+------------+---+------+------+\n",
            "|        name| id|gender|salary|\n",
            "+------------+---+------+------+\n",
            "|{A, Pyspark}|  1|     M|180000|\n",
            "|{B, Pyspark}|  2|     M|120000|\n",
            "|{c, Pyspark}|  3|     M|130000|\n",
            "|{D, Pyspark}|  4|     M|150000|\n",
            "|{E, Pyspark}|  5|     M|170000|\n",
            "+------------+---+------+------+\n",
            "\n",
            "root\n",
            " |-- name: struct (nullable = true)\n",
            " |    |-- firstname: string (nullable = true)\n",
            " |    |-- lastname: string (nullable = true)\n",
            " |-- id: string (nullable = true)\n",
            " |-- gender: string (nullable = true)\n",
            " |-- salary: integer (nullable = true)\n",
            "\n",
            "+------------+---+------+------+-------------+\n",
            "|        name| id|gender|salary|salary_copied|\n",
            "+------------+---+------+------+-------------+\n",
            "|{A, Pyspark}|  1|     M|180000|      -180000|\n",
            "|{B, Pyspark}|  2|     M|120000|      -120000|\n",
            "|{c, Pyspark}|  3|     M|130000|      -130000|\n",
            "|{D, Pyspark}|  4|     M|150000|      -150000|\n",
            "|{E, Pyspark}|  5|     M|170000|      -170000|\n",
            "+------------+---+------+------+-------------+\n",
            "\n",
            "root\n",
            " |-- name: struct (nullable = true)\n",
            " |    |-- firstname: string (nullable = true)\n",
            " |    |-- lastname: string (nullable = true)\n",
            " |-- id: string (nullable = true)\n",
            " |-- gender: string (nullable = true)\n",
            " |-- salary: integer (nullable = true)\n",
            " |-- salary_copied: integer (nullable = true)\n",
            "\n"
          ]
        }
      ]
    },
    {
      "cell_type": "code",
      "source": [
        "df3.show()"
      ],
      "metadata": {
        "id": "xQruSKZYe0pI",
        "colab": {
          "base_uri": "https://localhost:8080/"
        },
        "outputId": "4c32ca50-2406-4347-d361-e7ab1f62696f"
      },
      "execution_count": 25,
      "outputs": [
        {
          "output_type": "stream",
          "name": "stdout",
          "text": [
            "+-------+-------+----+------+------+-----+\n",
            "|   name|country| GPA|   edu|salary|Grade|\n",
            "+-------+-------+----+------+------+-----+\n",
            "|kalpana|    USA| 3.2|   ASU|100000|  3.2|\n",
            "| deepak|    USA| 3.8|   ASU|200000|  3.8|\n",
            "|   isha|  india|20.0|school|  1000| 20.0|\n",
            "|   diya|  india| 3.0|school| 10000|  3.0|\n",
            "|   jack|  china| 9.1|   clg|  2900|  9.1|\n",
            "|   jame|  nepal| 9.4|   clg| 20000|  9.4|\n",
            "+-------+-------+----+------+------+-----+\n",
            "\n"
          ]
        }
      ]
    },
    {
      "cell_type": "code",
      "source": [
        "df3.show()\n",
        "df3.printSchema()"
      ],
      "metadata": {
        "colab": {
          "base_uri": "https://localhost:8080/"
        },
        "id": "M8UZmeUS_jm5",
        "outputId": "49687446-f781-4ba3-c410-3ec9302e7bb3"
      },
      "execution_count": 26,
      "outputs": [
        {
          "output_type": "stream",
          "name": "stdout",
          "text": [
            "+-------+-------+----+------+------+-----+\n",
            "|   name|country| GPA|   edu|salary|Grade|\n",
            "+-------+-------+----+------+------+-----+\n",
            "|kalpana|    USA| 3.2|   ASU|100000|  3.2|\n",
            "| deepak|    USA| 3.8|   ASU|200000|  3.8|\n",
            "|   isha|  india|20.0|school|  1000| 20.0|\n",
            "|   diya|  india| 3.0|school| 10000|  3.0|\n",
            "|   jack|  china| 9.1|   clg|  2900|  9.1|\n",
            "|   jame|  nepal| 9.4|   clg| 20000|  9.4|\n",
            "+-------+-------+----+------+------+-----+\n",
            "\n",
            "root\n",
            " |-- name: string (nullable = true)\n",
            " |-- country: string (nullable = true)\n",
            " |-- GPA: double (nullable = true)\n",
            " |-- edu: string (nullable = true)\n",
            " |-- salary: long (nullable = true)\n",
            " |-- Grade: float (nullable = true)\n",
            "\n"
          ]
        }
      ]
    },
    {
      "cell_type": "code",
      "source": [],
      "metadata": {
        "id": "vRttu0iT-tlu"
      },
      "execution_count": null,
      "outputs": []
    },
    {
      "cell_type": "code",
      "source": [
        "df3 = df3.withColumnRenamed(\"edu\", \"university\").withColumnRenamed(\"name\", \"full\")\n",
        "\n",
        "\n"
      ],
      "metadata": {
        "id": "X9QaqjVG9Exl"
      },
      "execution_count": 27,
      "outputs": []
    },
    {
      "cell_type": "code",
      "source": [
        "df3.printSchema()"
      ],
      "metadata": {
        "colab": {
          "base_uri": "https://localhost:8080/"
        },
        "id": "k63VIcCs_7nh",
        "outputId": "bcb6a94f-c56e-4319-9a0f-1222008bc1b3"
      },
      "execution_count": 28,
      "outputs": [
        {
          "output_type": "stream",
          "name": "stdout",
          "text": [
            "root\n",
            " |-- full: string (nullable = true)\n",
            " |-- country: string (nullable = true)\n",
            " |-- GPA: double (nullable = true)\n",
            " |-- university: string (nullable = true)\n",
            " |-- salary: long (nullable = true)\n",
            " |-- Grade: float (nullable = true)\n",
            "\n"
          ]
        }
      ]
    },
    {
      "cell_type": "code",
      "source": [
        "df3.show()"
      ],
      "metadata": {
        "colab": {
          "base_uri": "https://localhost:8080/"
        },
        "id": "zeQeS7a___um",
        "outputId": "63d176dc-99b1-4d89-87da-2a8ff8f1d94d"
      },
      "execution_count": 29,
      "outputs": [
        {
          "output_type": "stream",
          "name": "stdout",
          "text": [
            "+-------+-------+----+----------+------+-----+\n",
            "|   full|country| GPA|university|salary|Grade|\n",
            "+-------+-------+----+----------+------+-----+\n",
            "|kalpana|    USA| 3.2|       ASU|100000|  3.2|\n",
            "| deepak|    USA| 3.8|       ASU|200000|  3.8|\n",
            "|   isha|  india|20.0|    school|  1000| 20.0|\n",
            "|   diya|  india| 3.0|    school| 10000|  3.0|\n",
            "|   jack|  china| 9.1|       clg|  2900|  9.1|\n",
            "|   jame|  nepal| 9.4|       clg| 20000|  9.4|\n",
            "+-------+-------+----+----------+------+-----+\n",
            "\n"
          ]
        }
      ]
    },
    {
      "cell_type": "code",
      "source": [
        "df3.show()"
      ],
      "metadata": {
        "colab": {
          "base_uri": "https://localhost:8080/"
        },
        "id": "ww5QbStq-5y2",
        "outputId": "e8c4d6ab-ab89-42dd-a3e1-835800e63c0d"
      },
      "execution_count": 30,
      "outputs": [
        {
          "output_type": "stream",
          "name": "stdout",
          "text": [
            "+-------+-------+----+----------+------+-----+\n",
            "|   full|country| GPA|university|salary|Grade|\n",
            "+-------+-------+----+----------+------+-----+\n",
            "|kalpana|    USA| 3.2|       ASU|100000|  3.2|\n",
            "| deepak|    USA| 3.8|       ASU|200000|  3.8|\n",
            "|   isha|  india|20.0|    school|  1000| 20.0|\n",
            "|   diya|  india| 3.0|    school| 10000|  3.0|\n",
            "|   jack|  china| 9.1|       clg|  2900|  9.1|\n",
            "|   jame|  nepal| 9.4|       clg| 20000|  9.4|\n",
            "+-------+-------+----+----------+------+-----+\n",
            "\n"
          ]
        }
      ]
    },
    {
      "cell_type": "code",
      "source": [
        "df3 = df3.withColumnRenamed (\"salary\", \"wage\")"
      ],
      "metadata": {
        "id": "8Cc0tcUQARQK"
      },
      "execution_count": 31,
      "outputs": []
    },
    {
      "cell_type": "code",
      "source": [
        "df3.show()"
      ],
      "metadata": {
        "colab": {
          "base_uri": "https://localhost:8080/"
        },
        "id": "1KkHP6gyAe4B",
        "outputId": "4ca31b0a-c262-474c-cdc8-063f92385c02"
      },
      "execution_count": 32,
      "outputs": [
        {
          "output_type": "stream",
          "name": "stdout",
          "text": [
            "+-------+-------+----+----------+------+-----+\n",
            "|   full|country| GPA|university|  wage|Grade|\n",
            "+-------+-------+----+----------+------+-----+\n",
            "|kalpana|    USA| 3.2|       ASU|100000|  3.2|\n",
            "| deepak|    USA| 3.8|       ASU|200000|  3.8|\n",
            "|   isha|  india|20.0|    school|  1000| 20.0|\n",
            "|   diya|  india| 3.0|    school| 10000|  3.0|\n",
            "|   jack|  china| 9.1|       clg|  2900|  9.1|\n",
            "|   jame|  nepal| 9.4|       clg| 20000|  9.4|\n",
            "+-------+-------+----+----------+------+-----+\n",
            "\n"
          ]
        }
      ]
    },
    {
      "cell_type": "code",
      "source": [
        "df3.printSchema()"
      ],
      "metadata": {
        "colab": {
          "base_uri": "https://localhost:8080/"
        },
        "id": "g9BrtnJuAiJv",
        "outputId": "affbfac7-a6d4-41a8-c605-67d1ce15fce5"
      },
      "execution_count": 33,
      "outputs": [
        {
          "output_type": "stream",
          "name": "stdout",
          "text": [
            "root\n",
            " |-- full: string (nullable = true)\n",
            " |-- country: string (nullable = true)\n",
            " |-- GPA: double (nullable = true)\n",
            " |-- university: string (nullable = true)\n",
            " |-- wage: long (nullable = true)\n",
            " |-- Grade: float (nullable = true)\n",
            "\n"
          ]
        }
      ]
    },
    {
      "cell_type": "code",
      "source": [
        "df3 = df3.withColumn(\"sum_salary\", F.col(\"wage\") * F.col(\"Grade\"))"
      ],
      "metadata": {
        "id": "D9Auq594Ap6D"
      },
      "execution_count": null,
      "outputs": []
    },
    {
      "cell_type": "code",
      "source": [
        "df3.printSchema()"
      ],
      "metadata": {
        "colab": {
          "base_uri": "https://localhost:8080/"
        },
        "id": "yXwGqgm4A7fM",
        "outputId": "04fa420e-9248-4ccb-e65f-d62b2d719426"
      },
      "execution_count": 34,
      "outputs": [
        {
          "output_type": "stream",
          "name": "stdout",
          "text": [
            "root\n",
            " |-- full: string (nullable = true)\n",
            " |-- country: string (nullable = true)\n",
            " |-- GPA: double (nullable = true)\n",
            " |-- university: string (nullable = true)\n",
            " |-- wage: long (nullable = true)\n",
            " |-- Grade: float (nullable = true)\n",
            "\n"
          ]
        }
      ]
    },
    {
      "cell_type": "code",
      "source": [
        "df3.show()"
      ],
      "metadata": {
        "colab": {
          "base_uri": "https://localhost:8080/"
        },
        "id": "EMpBIb89A_ZN",
        "outputId": "ad186e39-7976-44be-dabb-1d844931123f"
      },
      "execution_count": 35,
      "outputs": [
        {
          "output_type": "stream",
          "name": "stdout",
          "text": [
            "+-------+-------+----+----------+------+-----+\n",
            "|   full|country| GPA|university|  wage|Grade|\n",
            "+-------+-------+----+----------+------+-----+\n",
            "|kalpana|    USA| 3.2|       ASU|100000|  3.2|\n",
            "| deepak|    USA| 3.8|       ASU|200000|  3.8|\n",
            "|   isha|  india|20.0|    school|  1000| 20.0|\n",
            "|   diya|  india| 3.0|    school| 10000|  3.0|\n",
            "|   jack|  china| 9.1|       clg|  2900|  9.1|\n",
            "|   jame|  nepal| 9.4|       clg| 20000|  9.4|\n",
            "+-------+-------+----+----------+------+-----+\n",
            "\n"
          ]
        }
      ]
    },
    {
      "cell_type": "code",
      "source": [
        "df3 = df3.withColumnRenamed(\"sum_salary\", \"overall\")\n",
        "\n"
      ],
      "metadata": {
        "id": "ORLoXz1cBVrR"
      },
      "execution_count": 36,
      "outputs": []
    },
    {
      "cell_type": "code",
      "source": [
        "df3.printSchema()"
      ],
      "metadata": {
        "colab": {
          "base_uri": "https://localhost:8080/"
        },
        "id": "34H4uXuBB01w",
        "outputId": "420a93a6-1d62-4719-963d-d621ac8fc87d"
      },
      "execution_count": 37,
      "outputs": [
        {
          "output_type": "stream",
          "name": "stdout",
          "text": [
            "root\n",
            " |-- full: string (nullable = true)\n",
            " |-- country: string (nullable = true)\n",
            " |-- GPA: double (nullable = true)\n",
            " |-- university: string (nullable = true)\n",
            " |-- wage: long (nullable = true)\n",
            " |-- Grade: float (nullable = true)\n",
            "\n"
          ]
        }
      ]
    },
    {
      "cell_type": "code",
      "source": [
        "df3.show()"
      ],
      "metadata": {
        "colab": {
          "base_uri": "https://localhost:8080/"
        },
        "id": "Y6xaFkYMB85k",
        "outputId": "54aee778-1fc0-4e20-863f-9f8dfe36c106"
      },
      "execution_count": 38,
      "outputs": [
        {
          "output_type": "stream",
          "name": "stdout",
          "text": [
            "+-------+-------+----+----------+------+-----+\n",
            "|   full|country| GPA|university|  wage|Grade|\n",
            "+-------+-------+----+----------+------+-----+\n",
            "|kalpana|    USA| 3.2|       ASU|100000|  3.2|\n",
            "| deepak|    USA| 3.8|       ASU|200000|  3.8|\n",
            "|   isha|  india|20.0|    school|  1000| 20.0|\n",
            "|   diya|  india| 3.0|    school| 10000|  3.0|\n",
            "|   jack|  china| 9.1|       clg|  2900|  9.1|\n",
            "|   jame|  nepal| 9.4|       clg| 20000|  9.4|\n",
            "+-------+-------+----+----------+------+-----+\n",
            "\n"
          ]
        }
      ]
    },
    {
      "cell_type": "code",
      "source": [
        "distinctDF = df3.distinct()\n",
        "distinctDF.show()"
      ],
      "metadata": {
        "colab": {
          "base_uri": "https://localhost:8080/"
        },
        "id": "Nw4uoDjVCzlU",
        "outputId": "d5f81b60-190a-4a48-a0c6-df7bc071ce4c"
      },
      "execution_count": 39,
      "outputs": [
        {
          "output_type": "stream",
          "name": "stdout",
          "text": [
            "+-------+-------+----+----------+------+-----+\n",
            "|   full|country| GPA|university|  wage|Grade|\n",
            "+-------+-------+----+----------+------+-----+\n",
            "|kalpana|    USA| 3.2|       ASU|100000|  3.2|\n",
            "|   isha|  india|20.0|    school|  1000| 20.0|\n",
            "| deepak|    USA| 3.8|       ASU|200000|  3.8|\n",
            "|   jack|  china| 9.1|       clg|  2900|  9.1|\n",
            "|   jame|  nepal| 9.4|       clg| 20000|  9.4|\n",
            "|   diya|  india| 3.0|    school| 10000|  3.0|\n",
            "+-------+-------+----+----------+------+-----+\n",
            "\n"
          ]
        }
      ]
    },
    {
      "cell_type": "code",
      "source": [
        "dataframe = spark.createDataFrame(\n",
        "    [   \n",
        "        (\"James Scott\", \"Sales\", 3000),\n",
        "        (\"Micheal Stark\",\"Sales\", 4000),\n",
        "        (\"Robert Scott\",\"Sales\", 1000),\n",
        "        (\"James Stark\",\"Sales\", 3000),\n",
        "        (\"Jen America\",\"Finance\",4000),\n",
        "        (\"Scott Scott\",\"Finance\",3900),\n",
        "        (\"Jen Scott\",\"Finance\",4000),\n",
        "        (\"Ganesh Scott\",\"Sales\",5000),\n",
        "        (\"James Scott\", \"sales\", 5000)\n",
        "        \n",
        "    ],\n",
        "    [\"employee_name\", \"department\", \"salary\"]\n",
        ")\n",
        "\n",
        "\n",
        "dataframe.show()"
      ],
      "metadata": {
        "colab": {
          "base_uri": "https://localhost:8080/"
        },
        "id": "b-9iRj0PDTzb",
        "outputId": "d3fdfe5e-3df5-482d-eb5e-45393345ccde"
      },
      "execution_count": 40,
      "outputs": [
        {
          "output_type": "stream",
          "name": "stdout",
          "text": [
            "+-------------+----------+------+\n",
            "|employee_name|department|salary|\n",
            "+-------------+----------+------+\n",
            "|  James Scott|     Sales|  3000|\n",
            "|Micheal Stark|     Sales|  4000|\n",
            "| Robert Scott|     Sales|  1000|\n",
            "|  James Stark|     Sales|  3000|\n",
            "|  Jen America|   Finance|  4000|\n",
            "|  Scott Scott|   Finance|  3900|\n",
            "|    Jen Scott|   Finance|  4000|\n",
            "| Ganesh Scott|     Sales|  5000|\n",
            "|  James Scott|     sales|  5000|\n",
            "+-------------+----------+------+\n",
            "\n"
          ]
        }
      ]
    },
    {
      "cell_type": "code",
      "source": [
        "dataframe.printSchema()"
      ],
      "metadata": {
        "colab": {
          "base_uri": "https://localhost:8080/"
        },
        "id": "b2eFnmkgEO0j",
        "outputId": "f5e41ac5-018f-4722-9465-e0b99708694a"
      },
      "execution_count": 41,
      "outputs": [
        {
          "output_type": "stream",
          "name": "stdout",
          "text": [
            "root\n",
            " |-- employee_name: string (nullable = true)\n",
            " |-- department: string (nullable = true)\n",
            " |-- salary: long (nullable = true)\n",
            "\n"
          ]
        }
      ]
    },
    {
      "cell_type": "code",
      "source": [
        "##distict function to get unique values\n",
        "\n",
        "DistinctDF = dataframe.distinct()\n",
        "\n",
        "DistinctDF.show()"
      ],
      "metadata": {
        "colab": {
          "base_uri": "https://localhost:8080/"
        },
        "id": "UML6TcCiET7S",
        "outputId": "8322b070-3896-499b-950a-521c883fb0cd"
      },
      "execution_count": 46,
      "outputs": [
        {
          "output_type": "stream",
          "name": "stdout",
          "text": [
            "+-------------+----------+------+\n",
            "|employee_name|department|salary|\n",
            "+-------------+----------+------+\n",
            "|  James Stark|     Sales|  3000|\n",
            "|  James Scott|     Sales|  3000|\n",
            "|Micheal Stark|     Sales|  4000|\n",
            "| Robert Scott|     Sales|  1000|\n",
            "|  James Scott|     sales|  5000|\n",
            "|  Jen America|   Finance|  4000|\n",
            "| Ganesh Scott|     Sales|  5000|\n",
            "|    Jen Scott|   Finance|  4000|\n",
            "|  Scott Scott|   Finance|  3900|\n",
            "+-------------+----------+------+\n",
            "\n"
          ]
        }
      ]
    },
    {
      "cell_type": "code",
      "source": [
        "dropDF = dataframe.dropDuplicates ([\"department\", \"salary\"])\n",
        "\n",
        "print(dropDF.count())\n",
        "\n",
        "dropDF.show()"
      ],
      "metadata": {
        "colab": {
          "base_uri": "https://localhost:8080/"
        },
        "id": "Q1B-6z2XFE45",
        "outputId": "930ab139-d4d9-47f1-c046-7a58afaa6b78"
      },
      "execution_count": 42,
      "outputs": [
        {
          "output_type": "stream",
          "name": "stdout",
          "text": [
            "7\n",
            "+-------------+----------+------+\n",
            "|employee_name|department|salary|\n",
            "+-------------+----------+------+\n",
            "|  Scott Scott|   Finance|  3900|\n",
            "|  Jen America|   Finance|  4000|\n",
            "| Robert Scott|     Sales|  1000|\n",
            "|  James Scott|     Sales|  3000|\n",
            "|Micheal Stark|     Sales|  4000|\n",
            "| Ganesh Scott|     Sales|  5000|\n",
            "|  James Scott|     sales|  5000|\n",
            "+-------------+----------+------+\n",
            "\n"
          ]
        }
      ]
    },
    {
      "cell_type": "code",
      "source": [
        "##filtering the data:\n",
        "\n",
        "dataframe.show()"
      ],
      "metadata": {
        "colab": {
          "base_uri": "https://localhost:8080/"
        },
        "id": "KvkTxdEFFnfU",
        "outputId": "90f7a88c-c316-4de9-b035-5eedb3017b7c"
      },
      "execution_count": 47,
      "outputs": [
        {
          "output_type": "stream",
          "name": "stdout",
          "text": [
            "+-------------+----------+------+\n",
            "|employee_name|department|salary|\n",
            "+-------------+----------+------+\n",
            "|  James Scott|     Sales|  3000|\n",
            "|Micheal Stark|     Sales|  4000|\n",
            "| Robert Scott|     Sales|  1000|\n",
            "|  James Stark|     Sales|  3000|\n",
            "|  Jen America|   Finance|  4000|\n",
            "|  Scott Scott|   Finance|  3900|\n",
            "|    Jen Scott|   Finance|  4000|\n",
            "| Ganesh Scott|     Sales|  5000|\n",
            "|  James Scott|     sales|  5000|\n",
            "+-------------+----------+------+\n",
            "\n"
          ]
        }
      ]
    },
    {
      "cell_type": "code",
      "source": [
        "DistinctDF.show()"
      ],
      "metadata": {
        "colab": {
          "base_uri": "https://localhost:8080/"
        },
        "id": "paWhMzopFuM4",
        "outputId": "61f19239-f50e-48d3-d0f9-71526232c7a2"
      },
      "execution_count": 48,
      "outputs": [
        {
          "output_type": "stream",
          "name": "stdout",
          "text": [
            "+-------------+----------+------+\n",
            "|employee_name|department|salary|\n",
            "+-------------+----------+------+\n",
            "|  James Stark|     Sales|  3000|\n",
            "|  James Scott|     Sales|  3000|\n",
            "|Micheal Stark|     Sales|  4000|\n",
            "| Robert Scott|     Sales|  1000|\n",
            "|  James Scott|     sales|  5000|\n",
            "|  Jen America|   Finance|  4000|\n",
            "| Ganesh Scott|     Sales|  5000|\n",
            "|    Jen Scott|   Finance|  4000|\n",
            "|  Scott Scott|   Finance|  3900|\n",
            "+-------------+----------+------+\n",
            "\n"
          ]
        }
      ]
    },
    {
      "cell_type": "code",
      "source": [
        "DistinctDF.filter(dataframe.salary > 2000).show()\n",
        "\n",
        "DistinctDF.show()"
      ],
      "metadata": {
        "colab": {
          "base_uri": "https://localhost:8080/"
        },
        "id": "ihaaPYocF1yK",
        "outputId": "ff952e12-cd4b-47c9-c613-cf1acc1a9d04"
      },
      "execution_count": 49,
      "outputs": [
        {
          "output_type": "stream",
          "name": "stdout",
          "text": [
            "+-------------+----------+------+\n",
            "|employee_name|department|salary|\n",
            "+-------------+----------+------+\n",
            "|  James Stark|     Sales|  3000|\n",
            "|  James Scott|     Sales|  3000|\n",
            "|Micheal Stark|     Sales|  4000|\n",
            "|  James Scott|     sales|  5000|\n",
            "|  Jen America|   Finance|  4000|\n",
            "| Ganesh Scott|     Sales|  5000|\n",
            "|    Jen Scott|   Finance|  4000|\n",
            "|  Scott Scott|   Finance|  3900|\n",
            "+-------------+----------+------+\n",
            "\n",
            "+-------------+----------+------+\n",
            "|employee_name|department|salary|\n",
            "+-------------+----------+------+\n",
            "|  James Stark|     Sales|  3000|\n",
            "|  James Scott|     Sales|  3000|\n",
            "|Micheal Stark|     Sales|  4000|\n",
            "| Robert Scott|     Sales|  1000|\n",
            "|  James Scott|     sales|  5000|\n",
            "|  Jen America|   Finance|  4000|\n",
            "| Ganesh Scott|     Sales|  5000|\n",
            "|    Jen Scott|   Finance|  4000|\n",
            "|  Scott Scott|   Finance|  3900|\n",
            "+-------------+----------+------+\n",
            "\n"
          ]
        }
      ]
    },
    {
      "cell_type": "code",
      "source": [
        "DistinctDF.show()\n",
        "dataframe.show()"
      ],
      "metadata": {
        "colab": {
          "base_uri": "https://localhost:8080/"
        },
        "id": "qV_PO14y1uFo",
        "outputId": "a8d37f87-fd4d-425f-9101-9ebecf1d3ad6"
      },
      "execution_count": 50,
      "outputs": [
        {
          "output_type": "stream",
          "name": "stdout",
          "text": [
            "+-------------+----------+------+\n",
            "|employee_name|department|salary|\n",
            "+-------------+----------+------+\n",
            "|  James Stark|     Sales|  3000|\n",
            "|  James Scott|     Sales|  3000|\n",
            "|Micheal Stark|     Sales|  4000|\n",
            "| Robert Scott|     Sales|  1000|\n",
            "|  James Scott|     sales|  5000|\n",
            "|  Jen America|   Finance|  4000|\n",
            "| Ganesh Scott|     Sales|  5000|\n",
            "|    Jen Scott|   Finance|  4000|\n",
            "|  Scott Scott|   Finance|  3900|\n",
            "+-------------+----------+------+\n",
            "\n",
            "+-------------+----------+------+\n",
            "|employee_name|department|salary|\n",
            "+-------------+----------+------+\n",
            "|  James Scott|     Sales|  3000|\n",
            "|Micheal Stark|     Sales|  4000|\n",
            "| Robert Scott|     Sales|  1000|\n",
            "|  James Stark|     Sales|  3000|\n",
            "|  Jen America|   Finance|  4000|\n",
            "|  Scott Scott|   Finance|  3900|\n",
            "|    Jen Scott|   Finance|  4000|\n",
            "| Ganesh Scott|     Sales|  5000|\n",
            "|  James Scott|     sales|  5000|\n",
            "+-------------+----------+------+\n",
            "\n"
          ]
        }
      ]
    },
    {
      "cell_type": "code",
      "source": [
        "unionDF = dataframe.union(DistinctDF)\n",
        "\n",
        "unionDF.show()"
      ],
      "metadata": {
        "colab": {
          "base_uri": "https://localhost:8080/"
        },
        "id": "M13jUo362Lbr",
        "outputId": "006c9289-2bd4-452c-ff20-2fe85058cce3"
      },
      "execution_count": 52,
      "outputs": [
        {
          "output_type": "stream",
          "name": "stdout",
          "text": [
            "+-------------+----------+------+\n",
            "|employee_name|department|salary|\n",
            "+-------------+----------+------+\n",
            "|  James Scott|     Sales|  3000|\n",
            "|Micheal Stark|     Sales|  4000|\n",
            "| Robert Scott|     Sales|  1000|\n",
            "|  James Stark|     Sales|  3000|\n",
            "|  Jen America|   Finance|  4000|\n",
            "|  Scott Scott|   Finance|  3900|\n",
            "|    Jen Scott|   Finance|  4000|\n",
            "| Ganesh Scott|     Sales|  5000|\n",
            "|  James Scott|     sales|  5000|\n",
            "|  James Stark|     Sales|  3000|\n",
            "|  James Scott|     Sales|  3000|\n",
            "|Micheal Stark|     Sales|  4000|\n",
            "| Robert Scott|     Sales|  1000|\n",
            "|  James Scott|     sales|  5000|\n",
            "|  Jen America|   Finance|  4000|\n",
            "| Ganesh Scott|     Sales|  5000|\n",
            "|    Jen Scott|   Finance|  4000|\n",
            "|  Scott Scott|   Finance|  3900|\n",
            "+-------------+----------+------+\n",
            "\n"
          ]
        }
      ]
    },
    {
      "cell_type": "code",
      "source": [
        "unionDI = unionDF.distinct()\n",
        "\n",
        "unionDI.show()"
      ],
      "metadata": {
        "colab": {
          "base_uri": "https://localhost:8080/"
        },
        "id": "heNfqaZx3AqW",
        "outputId": "666bdd4e-14f6-411a-92dd-b7bd9f95431d"
      },
      "execution_count": 54,
      "outputs": [
        {
          "output_type": "stream",
          "name": "stdout",
          "text": [
            "+-------------+----------+------+\n",
            "|employee_name|department|salary|\n",
            "+-------------+----------+------+\n",
            "|  James Stark|     Sales|  3000|\n",
            "|  James Scott|     Sales|  3000|\n",
            "|Micheal Stark|     Sales|  4000|\n",
            "| Robert Scott|     Sales|  1000|\n",
            "|  James Scott|     sales|  5000|\n",
            "|  Jen America|   Finance|  4000|\n",
            "| Ganesh Scott|     Sales|  5000|\n",
            "|    Jen Scott|   Finance|  4000|\n",
            "|  Scott Scott|   Finance|  3900|\n",
            "+-------------+----------+------+\n",
            "\n"
          ]
        }
      ]
    },
    {
      "cell_type": "code",
      "source": [
        "df3.show()"
      ],
      "metadata": {
        "colab": {
          "base_uri": "https://localhost:8080/"
        },
        "id": "uxtij0A03WjV",
        "outputId": "2dd604b5-e505-4b7b-ee4c-3944a199276c"
      },
      "execution_count": 55,
      "outputs": [
        {
          "output_type": "stream",
          "name": "stdout",
          "text": [
            "+-------+-------+----+----------+------+-----+\n",
            "|   full|country| GPA|university|  wage|Grade|\n",
            "+-------+-------+----+----------+------+-----+\n",
            "|kalpana|    USA| 3.2|       ASU|100000|  3.2|\n",
            "| deepak|    USA| 3.8|       ASU|200000|  3.8|\n",
            "|   isha|  india|20.0|    school|  1000| 20.0|\n",
            "|   diya|  india| 3.0|    school| 10000|  3.0|\n",
            "|   jack|  china| 9.1|       clg|  2900|  9.1|\n",
            "|   jame|  nepal| 9.4|       clg| 20000|  9.4|\n",
            "+-------+-------+----+----------+------+-----+\n",
            "\n"
          ]
        }
      ]
    },
    {
      "cell_type": "code",
      "source": [
        "emp = [(1, \"kalpana\", 1, 20000),\n",
        "       (2, \"Deepak\",2,  300000),\n",
        "       (3, \"rosy\", 3, 30000)]\n",
        "\n",
        "emp_columns= [\"empid\", \"name\", \"idno\", \"salary\"]\n",
        "\n",
        "empDF = spark.createDataFrame(data = emp , schema = emp_columns)\n",
        "\n",
        "empDF.show()\n",
        "\n",
        "empDF.printSchema()\n",
        "\n",
        "\n",
        "dept = [(1, \"it\", \"manager\", \"dubai\"),\n",
        "        (2, \"finance\", \"submanager\", \"paris\"),\n",
        "        (3, \"accounting\", \"CEO\", \"AFRICA\"),\n",
        "        (4, \"agriculture\", \"director\", \"usa\")\n",
        "        ]\n",
        "\n",
        "deptcolumns = [\"id\", \"field\", \"position\", \"location\"]\n",
        "\n",
        "deptDF = spark.createDataFrame(data = dept, schema = deptcolumns)\n",
        "\n",
        "deptDF.show()\n",
        "deptDF.printSchema()\n"
      ],
      "metadata": {
        "colab": {
          "base_uri": "https://localhost:8080/"
        },
        "id": "lLbhTtxD3jOH",
        "outputId": "7a8fa6db-facb-4afe-8c35-ca1193da5e47"
      },
      "execution_count": 61,
      "outputs": [
        {
          "output_type": "stream",
          "name": "stdout",
          "text": [
            "+-----+-------+----+------+\n",
            "|empid|   name|idno|salary|\n",
            "+-----+-------+----+------+\n",
            "|    1|kalpana|   1| 20000|\n",
            "|    2| Deepak|   2|300000|\n",
            "|    3|   rosy|   3| 30000|\n",
            "+-----+-------+----+------+\n",
            "\n",
            "root\n",
            " |-- empid: long (nullable = true)\n",
            " |-- name: string (nullable = true)\n",
            " |-- idno: long (nullable = true)\n",
            " |-- salary: long (nullable = true)\n",
            "\n",
            "+---+-----------+----------+--------+\n",
            "| id|      field|  position|location|\n",
            "+---+-----------+----------+--------+\n",
            "|  1|         it|   manager|   dubai|\n",
            "|  2|    finance|submanager|   paris|\n",
            "|  3| accounting|       CEO|  AFRICA|\n",
            "|  4|agriculture|  director|     usa|\n",
            "+---+-----------+----------+--------+\n",
            "\n",
            "root\n",
            " |-- id: long (nullable = true)\n",
            " |-- field: string (nullable = true)\n",
            " |-- position: string (nullable = true)\n",
            " |-- location: string (nullable = true)\n",
            "\n"
          ]
        }
      ]
    },
    {
      "cell_type": "code",
      "source": [
        "empDF.join(deptDF, empDF.idno == deptDF.id, \"outer\" ).show()"
      ],
      "metadata": {
        "colab": {
          "base_uri": "https://localhost:8080/"
        },
        "id": "ZBApwSCP7PpN",
        "outputId": "c25d939a-9e2d-4dd4-e82b-2fe774a40b62"
      },
      "execution_count": 62,
      "outputs": [
        {
          "output_type": "stream",
          "name": "stdout",
          "text": [
            "+-----+-------+----+------+---+-----------+----------+--------+\n",
            "|empid|   name|idno|salary| id|      field|  position|location|\n",
            "+-----+-------+----+------+---+-----------+----------+--------+\n",
            "|    1|kalpana|   1| 20000|  1|         it|   manager|   dubai|\n",
            "|    2| Deepak|   2|300000|  2|    finance|submanager|   paris|\n",
            "|    3|   rosy|   3| 30000|  3| accounting|       CEO|  AFRICA|\n",
            "| null|   null|null|  null|  4|agriculture|  director|     usa|\n",
            "+-----+-------+----+------+---+-----------+----------+--------+\n",
            "\n"
          ]
        }
      ]
    },
    {
      "cell_type": "code",
      "source": [
        "empDF.join(deptDF, empDF.idno == deptDF.id, \"inner\" ).show()"
      ],
      "metadata": {
        "colab": {
          "base_uri": "https://localhost:8080/"
        },
        "id": "kyvElTtP8c9S",
        "outputId": "007a143b-e90d-471e-b228-c8ee396d4406"
      },
      "execution_count": 63,
      "outputs": [
        {
          "output_type": "stream",
          "name": "stdout",
          "text": [
            "+-----+-------+----+------+---+----------+----------+--------+\n",
            "|empid|   name|idno|salary| id|     field|  position|location|\n",
            "+-----+-------+----+------+---+----------+----------+--------+\n",
            "|    1|kalpana|   1| 20000|  1|        it|   manager|   dubai|\n",
            "|    2| Deepak|   2|300000|  2|   finance|submanager|   paris|\n",
            "|    3|   rosy|   3| 30000|  3|accounting|       CEO|  AFRICA|\n",
            "+-----+-------+----+------+---+----------+----------+--------+\n",
            "\n"
          ]
        }
      ]
    },
    {
      "cell_type": "code",
      "source": [
        "empDF.join(deptDF, empDF.idno == deptDF.id, \"left\" ).show()"
      ],
      "metadata": {
        "colab": {
          "base_uri": "https://localhost:8080/"
        },
        "id": "n5sSasp389ul",
        "outputId": "f4e2a28d-752d-43b4-d9c7-4f8d6979f145"
      },
      "execution_count": 64,
      "outputs": [
        {
          "output_type": "stream",
          "name": "stdout",
          "text": [
            "+-----+-------+----+------+---+----------+----------+--------+\n",
            "|empid|   name|idno|salary| id|     field|  position|location|\n",
            "+-----+-------+----+------+---+----------+----------+--------+\n",
            "|    1|kalpana|   1| 20000|  1|        it|   manager|   dubai|\n",
            "|    3|   rosy|   3| 30000|  3|accounting|       CEO|  AFRICA|\n",
            "|    2| Deepak|   2|300000|  2|   finance|submanager|   paris|\n",
            "+-----+-------+----+------+---+----------+----------+--------+\n",
            "\n"
          ]
        }
      ]
    },
    {
      "cell_type": "code",
      "source": [
        "empDF.join(deptDF, empDF.idno == deptDF.id, \"right\" ).show()"
      ],
      "metadata": {
        "colab": {
          "base_uri": "https://localhost:8080/"
        },
        "id": "zTrEZVS69S0m",
        "outputId": "d40b5ccd-e54a-4667-e069-d8578ccbb561"
      },
      "execution_count": 65,
      "outputs": [
        {
          "output_type": "stream",
          "name": "stdout",
          "text": [
            "+-----+-------+----+------+---+-----------+----------+--------+\n",
            "|empid|   name|idno|salary| id|      field|  position|location|\n",
            "+-----+-------+----+------+---+-----------+----------+--------+\n",
            "|    1|kalpana|   1| 20000|  1|         it|   manager|   dubai|\n",
            "|    2| Deepak|   2|300000|  2|    finance|submanager|   paris|\n",
            "|    3|   rosy|   3| 30000|  3| accounting|       CEO|  AFRICA|\n",
            "| null|   null|null|  null|  4|agriculture|  director|     usa|\n",
            "+-----+-------+----+------+---+-----------+----------+--------+\n",
            "\n"
          ]
        }
      ]
    }
  ]
}